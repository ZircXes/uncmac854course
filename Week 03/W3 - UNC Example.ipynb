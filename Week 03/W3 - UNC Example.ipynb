{
 "cells": [
  {
   "cell_type": "markdown",
   "metadata": {},
   "source": [
    "## W3 - UNC Example:\n",
    "\n",
    "Author: Chris Kennedy"
   ]
  },
  {
   "cell_type": "code",
   "execution_count": 1,
   "metadata": {},
   "outputs": [],
   "source": [
    "import pandas as pd\n",
    "from sklearn.linear_model import LogisticRegression\n",
    "from sklearn.metrics import confusion_matrix, roc_curve, roc_auc_score, auc\n",
    "from sklearn import tree\n",
    "from sklearn.tree import export_graphviz\n",
    "from graphviz import Source"
   ]
  },
  {
   "cell_type": "markdown",
   "metadata": {},
   "source": [
    "### Data Preparation and Loading"
   ]
  },
  {
   "cell_type": "code",
   "execution_count": 2,
   "metadata": {},
   "outputs": [],
   "source": [
    "df = pd.read_excel(r'W3 - UNC Choice Data.xlsx')"
   ]
  },
  {
   "cell_type": "code",
   "execution_count": 3,
   "metadata": {},
   "outputs": [],
   "source": [
    "y = df['UNC?']\n",
    "X = df.drop(columns=['Applicant','Choice','UNC?'])"
   ]
  },
  {
   "cell_type": "code",
   "execution_count": 4,
   "metadata": {},
   "outputs": [
    {
     "data": {
      "text/html": [
       "<div>\n",
       "<style scoped>\n",
       "    .dataframe tbody tr th:only-of-type {\n",
       "        vertical-align: middle;\n",
       "    }\n",
       "\n",
       "    .dataframe tbody tr th {\n",
       "        vertical-align: top;\n",
       "    }\n",
       "\n",
       "    .dataframe thead th {\n",
       "        text-align: right;\n",
       "    }\n",
       "</style>\n",
       "<table border=\"1\" class=\"dataframe\">\n",
       "  <thead>\n",
       "    <tr style=\"text-align: right;\">\n",
       "      <th></th>\n",
       "      <th>GMAT</th>\n",
       "      <th>Private University</th>\n",
       "      <th>BB IQ</th>\n",
       "    </tr>\n",
       "  </thead>\n",
       "  <tbody>\n",
       "    <tr>\n",
       "      <td>0</td>\n",
       "      <td>655</td>\n",
       "      <td>1</td>\n",
       "      <td>67</td>\n",
       "    </tr>\n",
       "    <tr>\n",
       "      <td>1</td>\n",
       "      <td>660</td>\n",
       "      <td>1</td>\n",
       "      <td>18</td>\n",
       "    </tr>\n",
       "    <tr>\n",
       "      <td>2</td>\n",
       "      <td>660</td>\n",
       "      <td>1</td>\n",
       "      <td>6</td>\n",
       "    </tr>\n",
       "    <tr>\n",
       "      <td>3</td>\n",
       "      <td>662</td>\n",
       "      <td>0</td>\n",
       "      <td>54</td>\n",
       "    </tr>\n",
       "    <tr>\n",
       "      <td>4</td>\n",
       "      <td>662</td>\n",
       "      <td>0</td>\n",
       "      <td>8</td>\n",
       "    </tr>\n",
       "  </tbody>\n",
       "</table>\n",
       "</div>"
      ],
      "text/plain": [
       "   GMAT  Private University  BB IQ\n",
       "0   655                   1     67\n",
       "1   660                   1     18\n",
       "2   660                   1      6\n",
       "3   662                   0     54\n",
       "4   662                   0      8"
      ]
     },
     "execution_count": 4,
     "metadata": {},
     "output_type": "execute_result"
    }
   ],
   "source": [
    "X.head()"
   ]
  },
  {
   "cell_type": "markdown",
   "metadata": {},
   "source": [
    "## Logistic Regression"
   ]
  },
  {
   "cell_type": "markdown",
   "metadata": {},
   "source": [
    "### Model Build"
   ]
  },
  {
   "cell_type": "code",
   "execution_count": 5,
   "metadata": {},
   "outputs": [
    {
     "data": {
      "text/plain": [
       "LogisticRegression(C=1.0, class_weight=None, dual=False, fit_intercept=True,\n",
       "                   intercept_scaling=1, l1_ratio=None, max_iter=100,\n",
       "                   multi_class='warn', n_jobs=None, penalty='none',\n",
       "                   random_state=42, solver='lbfgs', tol=0.0001, verbose=0,\n",
       "                   warm_start=False)"
      ]
     },
     "execution_count": 5,
     "metadata": {},
     "output_type": "execute_result"
    }
   ],
   "source": [
    "clr = LogisticRegression(solver=\"lbfgs\", penalty='none', random_state=42)\n",
    "clr.fit(X, y)"
   ]
  },
  {
   "cell_type": "markdown",
   "metadata": {},
   "source": [
    "Output coefficients"
   ]
  },
  {
   "cell_type": "code",
   "execution_count": 6,
   "metadata": {},
   "outputs": [
    {
     "name": "stdout",
     "output_type": "stream",
     "text": [
      "[Intercept]  Index(['GMAT', 'Private University', 'BB IQ'], dtype='object')\n",
      "[-70.19463525] [[0.09371534 1.68162487 0.06182431]]\n"
     ]
    }
   ],
   "source": [
    "print(\"[Intercept] \", X.columns)\n",
    "print(clr.intercept_, clr.coef_)"
   ]
  },
  {
   "cell_type": "markdown",
   "metadata": {},
   "source": [
    "Prediction and scoring"
   ]
  },
  {
   "cell_type": "code",
   "execution_count": 7,
   "metadata": {},
   "outputs": [
    {
     "name": "stdout",
     "output_type": "stream",
     "text": [
      "[-2.9872368  -5.54805153 -6.2899433  -4.81657042 -7.66048887 -1.82488858\n",
      " -2.93576851 -1.88083971 -2.80820442 -1.87888198 -3.7635447  -3.1413861\n",
      " -2.78280861  0.81732773 -2.30186354  1.96792959  0.59934175 -2.83092883\n",
      " -1.03606599 -0.0728948  -2.54586737  1.79616074 -1.82412025  1.83588268\n",
      "  0.40742824 -0.14703286  2.11053348  2.48147936  6.11350672  1.27884182\n",
      "  3.75768758  4.7293117   1.59775203  1.47997659  4.88031387]\n"
     ]
    }
   ],
   "source": [
    "yp = clr.predict(X)\n",
    "y_score = clr.decision_function(X)\n",
    "print(y_score)"
   ]
  },
  {
   "cell_type": "markdown",
   "metadata": {},
   "source": [
    "### Performance Metrics"
   ]
  },
  {
   "cell_type": "code",
   "execution_count": 8,
   "metadata": {},
   "outputs": [],
   "source": [
    "tn, fp, fn, tp = confusion_matrix(y, yp).ravel()"
   ]
  },
  {
   "cell_type": "code",
   "execution_count": 9,
   "metadata": {},
   "outputs": [
    {
     "name": "stdout",
     "output_type": "stream",
     "text": [
      "Confusion Matrix:\n",
      "                       Predicted\n",
      "                       UNC     Duke\n",
      "  Actual      UNC       13        2\n",
      "             Duke        2       18\n",
      "\n",
      "Accuracy:      88.6%\n",
      "Sensitivity:   86.7%\n",
      "Specificity:   90.0%\n"
     ]
    }
   ],
   "source": [
    "print(\"Confusion Matrix:\")\n",
    "print(\"%32s\" % \"Predicted\")\n",
    "print(\"%17s\" % \" \", \"%8s\" % \"UNC\", \"%8s\" % \"Duke\")\n",
    "print(\"%8s\" % \"Actual\", \"%8s\" % \"UNC\", \"%8i\" % tp, \"%8i\" % fn)\n",
    "print(\"%8s\" % \" \", \"%8s\" % \"Duke\", \"%8i\" % fp, \"%8i\" % tn)\n",
    "print(\"\")\n",
    "print(\"Accuracy:    %6.1f%%\" % ((tp+tn)/(tp+tn+fp+fn)*100))\n",
    "print(\"Sensitivity: %6.1f%%\" % (tp/(tp+fn)*100))\n",
    "print(\"Specificity: %6.1f%%\" % (tn/(tn+fp)*100))"
   ]
  },
  {
   "cell_type": "code",
   "execution_count": 10,
   "metadata": {},
   "outputs": [],
   "source": [
    "fpr, tpr, thresholds = roc_curve(y, y_score)\n",
    "roc_auc = auc(fpr, tpr)"
   ]
  },
  {
   "cell_type": "markdown",
   "metadata": {},
   "source": [
    "### Plots"
   ]
  },
  {
   "cell_type": "code",
   "execution_count": 11,
   "metadata": {},
   "outputs": [],
   "source": [
    "import matplotlib.pyplot as plt"
   ]
  },
  {
   "cell_type": "code",
   "execution_count": 12,
   "metadata": {},
   "outputs": [
    {
     "data": {
      "image/png": "[encoded data removed]",
      "text/plain": [
       "<Figure size 432x288 with 1 Axes>"
      ]
     },
     "metadata": {
      "needs_background": "light"
     },
     "output_type": "display_data"
    }
   ],
   "source": [
    "plt.figure()\n",
    "plt.plot([0, 1],[1,1], color='black', linestyle='--', lw=1)\n",
    "plt.plot(fpr,tpr, color='darkorange', label='ROC curve (area = %0.2f)' % roc_auc, lw=2)\n",
    "plt.plot([0, 1],[0,1], color='navy', linestyle='--', lw=2)\n",
    "plt.xlim([0.0, 1.0])\n",
    "plt.ylim([0.0, 1.05])\n",
    "plt.xlabel('False Positive Rate')\n",
    "plt.ylabel('True Positive Rate')\n",
    "plt.title('Receiver operating characteristic (ROC)')\n",
    "plt.legend(loc=\"lower right\")\n",
    "plt.show()"
   ]
  },
  {
   "cell_type": "markdown",
   "metadata": {},
   "source": [
    "## Decision Trees"
   ]
  },
  {
   "cell_type": "code",
   "execution_count": 13,
   "metadata": {},
   "outputs": [],
   "source": [
    "dt = tree.DecisionTreeClassifier(random_state = 42, criterion=\"gini\", splitter=\"best\", max_depth=2)\n",
    "dt = dt.fit(X, y)"
   ]
  },
  {
   "cell_type": "markdown",
   "metadata": {},
   "source": [
    "#### Describe the tree"
   ]
  },
  {
   "cell_type": "code",
   "execution_count": 14,
   "metadata": {},
   "outputs": [
    {
     "data": {
      "image/svg+xml": [
       "<?xml version=\"1.0\" encoding=\"UTF-8\" standalone=\"no\"?>\r\n",
       "<!DOCTYPE svg PUBLIC \"-//W3C//DTD SVG 1.1//EN\"\r\n",
       " \"http://www.w3.org/Graphics/SVG/1.1/DTD/svg11.dtd\">\r\n",
       "<!-- Generated by graphviz version 2.38.0 (20140413.2041)\r\n",
       " -->\r\n",
       "<!-- Title: Tree Pages: 1 -->\r\n",
       "<svg width=\"445pt\" height=\"269pt\"\r\n",
       " viewBox=\"0.00 0.00 444.50 269.00\" xmlns=\"http://www.w3.org/2000/svg\" xmlns:xlink=\"http://www.w3.org/1999/xlink\">\r\n",
       "<g id=\"graph0\" class=\"graph\" transform=\"scale(1 1) rotate(0) translate(4 265)\">\r\n",
       "<title>Tree</title>\r\n",
       "<polygon fill=\"white\" stroke=\"none\" points=\"-4,4 -4,-265 440.5,-265 440.5,4 -4,4\"/>\r\n",
       "<!-- 0 -->\r\n",
       "<g id=\"node1\" class=\"node\"><title>0</title>\r\n",
       "<polygon fill=\"none\" stroke=\"black\" points=\"272,-261 159,-261 159,-193 272,-193 272,-261\"/>\r\n",
       "<text text-anchor=\"middle\" x=\"215.5\" y=\"-245.8\" font-family=\"Times New Roman,serif\" font-size=\"14.00\">GMAT &lt;= 694.0</text>\r\n",
       "<text text-anchor=\"middle\" x=\"215.5\" y=\"-230.8\" font-family=\"Times New Roman,serif\" font-size=\"14.00\">gini = 0.49</text>\r\n",
       "<text text-anchor=\"middle\" x=\"215.5\" y=\"-215.8\" font-family=\"Times New Roman,serif\" font-size=\"14.00\">samples = 35</text>\r\n",
       "<text text-anchor=\"middle\" x=\"215.5\" y=\"-200.8\" font-family=\"Times New Roman,serif\" font-size=\"14.00\">value = [20, 15]</text>\r\n",
       "</g>\r\n",
       "<!-- 1 -->\r\n",
       "<g id=\"node2\" class=\"node\"><title>1</title>\r\n",
       "<polygon fill=\"none\" stroke=\"black\" points=\"207,-157 106,-157 106,-89 207,-89 207,-157\"/>\r\n",
       "<text text-anchor=\"middle\" x=\"156.5\" y=\"-141.8\" font-family=\"Times New Roman,serif\" font-size=\"14.00\">BB IQ &lt;= 17.0</text>\r\n",
       "<text text-anchor=\"middle\" x=\"156.5\" y=\"-126.8\" font-family=\"Times New Roman,serif\" font-size=\"14.00\">gini = 0.124</text>\r\n",
       "<text text-anchor=\"middle\" x=\"156.5\" y=\"-111.8\" font-family=\"Times New Roman,serif\" font-size=\"14.00\">samples = 15</text>\r\n",
       "<text text-anchor=\"middle\" x=\"156.5\" y=\"-96.8\" font-family=\"Times New Roman,serif\" font-size=\"14.00\">value = [14, 1]</text>\r\n",
       "</g>\r\n",
       "<!-- 0&#45;&gt;1 -->\r\n",
       "<g id=\"edge1\" class=\"edge\"><title>0&#45;&gt;1</title>\r\n",
       "<path fill=\"none\" stroke=\"black\" d=\"M196.344,-192.884C191.398,-184.332 186.008,-175.013 180.836,-166.072\"/>\r\n",
       "<polygon fill=\"black\" stroke=\"black\" points=\"183.798,-164.203 175.761,-157.299 177.739,-167.708 183.798,-164.203\"/>\r\n",
       "<text text-anchor=\"middle\" x=\"169.31\" y=\"-177.753\" font-family=\"Times New Roman,serif\" font-size=\"14.00\">True</text>\r\n",
       "</g>\r\n",
       "<!-- 4 -->\r\n",
       "<g id=\"node5\" class=\"node\"><title>4</title>\r\n",
       "<polygon fill=\"none\" stroke=\"black\" points=\"326,-157 225,-157 225,-89 326,-89 326,-157\"/>\r\n",
       "<text text-anchor=\"middle\" x=\"275.5\" y=\"-141.8\" font-family=\"Times New Roman,serif\" font-size=\"14.00\">BB IQ &lt;= 40.5</text>\r\n",
       "<text text-anchor=\"middle\" x=\"275.5\" y=\"-126.8\" font-family=\"Times New Roman,serif\" font-size=\"14.00\">gini = 0.42</text>\r\n",
       "<text text-anchor=\"middle\" x=\"275.5\" y=\"-111.8\" font-family=\"Times New Roman,serif\" font-size=\"14.00\">samples = 20</text>\r\n",
       "<text text-anchor=\"middle\" x=\"275.5\" y=\"-96.8\" font-family=\"Times New Roman,serif\" font-size=\"14.00\">value = [6, 14]</text>\r\n",
       "</g>\r\n",
       "<!-- 0&#45;&gt;4 -->\r\n",
       "<g id=\"edge4\" class=\"edge\"><title>0&#45;&gt;4</title>\r\n",
       "<path fill=\"none\" stroke=\"black\" d=\"M234.98,-192.884C240.01,-184.332 245.492,-175.013 250.752,-166.072\"/>\r\n",
       "<polygon fill=\"black\" stroke=\"black\" points=\"253.859,-167.693 255.912,-157.299 247.825,-164.144 253.859,-167.693\"/>\r\n",
       "<text text-anchor=\"middle\" x=\"262.186\" y=\"-177.799\" font-family=\"Times New Roman,serif\" font-size=\"14.00\">False</text>\r\n",
       "</g>\r\n",
       "<!-- 2 -->\r\n",
       "<g id=\"node3\" class=\"node\"><title>2</title>\r\n",
       "<polygon fill=\"none\" stroke=\"black\" points=\"91,-53 0,-53 0,-0 91,-0 91,-53\"/>\r\n",
       "<text text-anchor=\"middle\" x=\"45.5\" y=\"-37.8\" font-family=\"Times New Roman,serif\" font-size=\"14.00\">gini = 0.375</text>\r\n",
       "<text text-anchor=\"middle\" x=\"45.5\" y=\"-22.8\" font-family=\"Times New Roman,serif\" font-size=\"14.00\">samples = 4</text>\r\n",
       "<text text-anchor=\"middle\" x=\"45.5\" y=\"-7.8\" font-family=\"Times New Roman,serif\" font-size=\"14.00\">value = [3, 1]</text>\r\n",
       "</g>\r\n",
       "<!-- 1&#45;&gt;2 -->\r\n",
       "<g id=\"edge2\" class=\"edge\"><title>1&#45;&gt;2</title>\r\n",
       "<path fill=\"none\" stroke=\"black\" d=\"M117.678,-88.9485C106.61,-79.526 94.5669,-69.2731 83.546,-59.8906\"/>\r\n",
       "<polygon fill=\"black\" stroke=\"black\" points=\"85.6136,-57.0542 75.7304,-53.2367 81.0759,-62.3842 85.6136,-57.0542\"/>\r\n",
       "</g>\r\n",
       "<!-- 3 -->\r\n",
       "<g id=\"node4\" class=\"node\"><title>3</title>\r\n",
       "<polygon fill=\"none\" stroke=\"black\" points=\"207.5,-53 109.5,-53 109.5,-0 207.5,-0 207.5,-53\"/>\r\n",
       "<text text-anchor=\"middle\" x=\"158.5\" y=\"-37.8\" font-family=\"Times New Roman,serif\" font-size=\"14.00\">gini = 0.0</text>\r\n",
       "<text text-anchor=\"middle\" x=\"158.5\" y=\"-22.8\" font-family=\"Times New Roman,serif\" font-size=\"14.00\">samples = 11</text>\r\n",
       "<text text-anchor=\"middle\" x=\"158.5\" y=\"-7.8\" font-family=\"Times New Roman,serif\" font-size=\"14.00\">value = [11, 0]</text>\r\n",
       "</g>\r\n",
       "<!-- 1&#45;&gt;3 -->\r\n",
       "<g id=\"edge3\" class=\"edge\"><title>1&#45;&gt;3</title>\r\n",
       "<path fill=\"none\" stroke=\"black\" d=\"M157.2,-88.9485C157.374,-80.7153 157.561,-71.848 157.738,-63.4814\"/>\r\n",
       "<polygon fill=\"black\" stroke=\"black\" points=\"161.243,-63.3086 157.955,-53.2367 154.244,-63.1604 161.243,-63.3086\"/>\r\n",
       "</g>\r\n",
       "<!-- 5 -->\r\n",
       "<g id=\"node6\" class=\"node\"><title>5</title>\r\n",
       "<polygon fill=\"none\" stroke=\"black\" points=\"320,-53 229,-53 229,-0 320,-0 320,-53\"/>\r\n",
       "<text text-anchor=\"middle\" x=\"274.5\" y=\"-37.8\" font-family=\"Times New Roman,serif\" font-size=\"14.00\">gini = 0.278</text>\r\n",
       "<text text-anchor=\"middle\" x=\"274.5\" y=\"-22.8\" font-family=\"Times New Roman,serif\" font-size=\"14.00\">samples = 6</text>\r\n",
       "<text text-anchor=\"middle\" x=\"274.5\" y=\"-7.8\" font-family=\"Times New Roman,serif\" font-size=\"14.00\">value = [5, 1]</text>\r\n",
       "</g>\r\n",
       "<!-- 4&#45;&gt;5 -->\r\n",
       "<g id=\"edge5\" class=\"edge\"><title>4&#45;&gt;5</title>\r\n",
       "<path fill=\"none\" stroke=\"black\" d=\"M275.15,-88.9485C275.063,-80.7153 274.969,-71.848 274.881,-63.4814\"/>\r\n",
       "<polygon fill=\"black\" stroke=\"black\" points=\"278.378,-63.1991 274.772,-53.2367 271.378,-63.2732 278.378,-63.1991\"/>\r\n",
       "</g>\r\n",
       "<!-- 6 -->\r\n",
       "<g id=\"node7\" class=\"node\"><title>6</title>\r\n",
       "<polygon fill=\"none\" stroke=\"black\" points=\"436.5,-53 338.5,-53 338.5,-0 436.5,-0 436.5,-53\"/>\r\n",
       "<text text-anchor=\"middle\" x=\"387.5\" y=\"-37.8\" font-family=\"Times New Roman,serif\" font-size=\"14.00\">gini = 0.133</text>\r\n",
       "<text text-anchor=\"middle\" x=\"387.5\" y=\"-22.8\" font-family=\"Times New Roman,serif\" font-size=\"14.00\">samples = 14</text>\r\n",
       "<text text-anchor=\"middle\" x=\"387.5\" y=\"-7.8\" font-family=\"Times New Roman,serif\" font-size=\"14.00\">value = [1, 13]</text>\r\n",
       "</g>\r\n",
       "<!-- 4&#45;&gt;6 -->\r\n",
       "<g id=\"edge6\" class=\"edge\"><title>4&#45;&gt;6</title>\r\n",
       "<path fill=\"none\" stroke=\"black\" d=\"M314.672,-88.9485C325.84,-79.526 337.991,-69.2731 349.111,-59.8906\"/>\r\n",
       "<polygon fill=\"black\" stroke=\"black\" points=\"351.611,-62.3605 356.997,-53.2367 347.097,-57.0104 351.611,-62.3605\"/>\r\n",
       "</g>\r\n",
       "</g>\r\n",
       "</svg>\r\n"
      ],
      "text/plain": [
       "<graphviz.files.Source at 0x16895005ec8>"
      ]
     },
     "execution_count": 14,
     "metadata": {},
     "output_type": "execute_result"
    }
   ],
   "source": [
    "export_graphviz(dt, out_file=\"outfile.dot\", feature_names=X.columns)\n",
    "Source.from_file(\"outfile.dot\")"
   ]
  },
  {
   "cell_type": "markdown",
   "metadata": {},
   "source": [
    "For each box [a, b] corresponds to counts for [false, true] or [0, 1]"
   ]
  },
  {
   "cell_type": "markdown",
   "metadata": {},
   "source": [
    "#### Prediction and Scoring"
   ]
  },
  {
   "cell_type": "code",
   "execution_count": 15,
   "metadata": {},
   "outputs": [],
   "source": [
    "ypt = dt.predict(X)\n",
    "ypt_raw = dt.predict_proba(X)"
   ]
  },
  {
   "cell_type": "markdown",
   "metadata": {},
   "source": [
    "#### Performance Metrics"
   ]
  },
  {
   "cell_type": "code",
   "execution_count": 16,
   "metadata": {},
   "outputs": [],
   "source": [
    "tnt, fpt, fnt, tpt = confusion_matrix(y, ypt).ravel()"
   ]
  },
  {
   "cell_type": "code",
   "execution_count": 17,
   "metadata": {},
   "outputs": [
    {
     "name": "stdout",
     "output_type": "stream",
     "text": [
      "Confusion Matrix:\n",
      "                       Predicted\n",
      "                       UNC     Duke\n",
      "  Actual      UNC       13        2\n",
      "             Duke        1       19\n",
      "\n",
      "Accuracy:      91.4%\n",
      "Sensitivity:   86.7%\n",
      "Specificity:   95.0%\n"
     ]
    }
   ],
   "source": [
    "print(\"Confusion Matrix:\")\n",
    "print(\"%32s\" % \"Predicted\")\n",
    "print(\"%17s\" % \" \", \"%8s\" % \"UNC\", \"%8s\" % \"Duke\")\n",
    "print(\"%8s\" % \"Actual\", \"%8s\" % \"UNC\", \"%8i\" % tpt, \"%8i\" % fnt)\n",
    "print(\"%8s\" % \" \", \"%8s\" % \"Duke\", \"%8i\" % fpt, \"%8i\" % tnt)\n",
    "print(\"\")\n",
    "print(\"Accuracy:    %6.1f%%\" % ((tpt+tnt)/(tpt+tnt+fpt+fnt)*100))\n",
    "print(\"Sensitivity: %6.1f%%\" % (tpt/(tpt+fnt)*100))\n",
    "print(\"Specificity: %6.1f%%\" % (tnt/(tnt+fpt)*100))"
   ]
  },
  {
   "cell_type": "code",
   "execution_count": 18,
   "metadata": {},
   "outputs": [],
   "source": [
    "fprt, tprt, thresholdst = roc_curve(y, ypt_raw[:,1])\n",
    "roc_auct = auc(fprt, tprt)"
   ]
  },
  {
   "cell_type": "markdown",
   "metadata": {},
   "source": [
    "#### Plots"
   ]
  },
  {
   "cell_type": "code",
   "execution_count": 19,
   "metadata": {},
   "outputs": [
    {
     "data": {
      "image/png": "[encoded data removed]",
      "text/plain": [
       "<Figure size 432x288 with 1 Axes>"
      ]
     },
     "metadata": {
      "needs_background": "light"
     },
     "output_type": "display_data"
    }
   ],
   "source": [
    "plt.figure()\n",
    "plt.plot([0, 1],[1,1], color='black', linestyle='--', lw=1)\n",
    "plt.plot(fprt,tprt, color='darkorange', label='ROC curve (area = %0.2f)' % roc_auct, lw=2)\n",
    "plt.plot([0, 1],[0,1], color='navy', linestyle='--', lw=2)\n",
    "plt.xlim([0.0, 1.0])\n",
    "plt.ylim([0.0, 1.05])\n",
    "plt.xlabel('False Positive Rate')\n",
    "plt.ylabel('True Positive Rate')\n",
    "plt.title('Receiver operating characteristic (ROC)')\n",
    "plt.legend(loc=\"lower right\")\n",
    "plt.show()"
   ]
  },
  {
   "cell_type": "markdown",
   "metadata": {},
   "source": [
    "### End of Notebook!"
   ]
  }
 ],
 "metadata": {
  "kernelspec": {
   "display_name": "Python 3",
   "language": "python",
   "name": "python3"
  },
  "language_info": {
   "codemirror_mode": {
    "name": "ipython",
    "version": 3
   },
   "file_extension": ".py",
   "mimetype": "text/x-python",
   "name": "python",
   "nbconvert_exporter": "python",
   "pygments_lexer": "ipython3",
   "version": "3.7.4"
  }
 },
 "nbformat": 4,
 "nbformat_minor": 2
}
