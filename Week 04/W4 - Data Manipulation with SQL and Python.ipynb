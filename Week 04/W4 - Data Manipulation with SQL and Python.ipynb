{
 "cells": [
  {
   "cell_type": "markdown",
   "metadata": {},
   "source": [
    "## Week 04: Data Manipulation and SQL with Python\n",
    "\n",
    "Author: Chris Kennedy\n",
    "Course: MAC 854 Data Analytics for Accountants"
   ]
  },
  {
   "cell_type": "code",
   "execution_count": 1,
   "metadata": {},
   "outputs": [],
   "source": [
    "import pandas as pd\n",
    "import sqlite3\n",
    "import re"
   ]
  },
  {
   "cell_type": "markdown",
   "metadata": {},
   "source": [
    "Function for connecting to database. Try/Catch functions are useful for databases to understand if the process executed successfully. This is important as some of the activities are external to Python and aren't guaranteed to be captured back through this console."
   ]
  },
  {
   "cell_type": "code",
   "execution_count": 2,
   "metadata": {},
   "outputs": [],
   "source": [
    "def create_connection(path):\n",
    "    connection = None\n",
    "    try:\n",
    "        connection = sqlite3.connect(path)\n",
    "        print(\"Connection to SQLite DB successful\")\n",
    "    except sqlite3.Error as e:\n",
    "        print(f\"The error '{e}' occured\")\n",
    "        \n",
    "    return connection"
   ]
  },
  {
   "cell_type": "markdown",
   "metadata": {},
   "source": [
    "Helper function to interpret accounting numbers (which could be read in as strings) into numerical data. If a money-type class is available, use that over floating point numbers. Not used in this demo but shown for an example function to illustrate regular expressions and functions that can be used with .apply(f(x))"
   ]
  },
  {
   "cell_type": "code",
   "execution_count": 3,
   "metadata": {},
   "outputs": [],
   "source": [
    "def clean_currency(x):\n",
    "    \"\"\" Cleans strings of $ and () to numerical numbers that\n",
    "    can be converted to a float\n",
    "    \"\"\"\n",
    "    if isinstance(x, str):\n",
    "        return (re.sub('[(]', '-', re.sub( '[\\$,)]', '', x)))\n",
    "    return (x)"
   ]
  },
  {
   "cell_type": "markdown",
   "metadata": {},
   "source": [
    "### Setup a database locally"
   ]
  },
  {
   "cell_type": "code",
   "execution_count": 4,
   "metadata": {},
   "outputs": [
    {
     "name": "stdout",
     "output_type": "stream",
     "text": [
      "Connection to SQLite DB successful\n"
     ]
    }
   ],
   "source": [
    "connection = create_connection(\"localapp.sqlite\")"
   ]
  },
  {
   "cell_type": "markdown",
   "metadata": {},
   "source": [
    "#### Read in dataframes for analysis"
   ]
  },
  {
   "cell_type": "code",
   "execution_count": 5,
   "metadata": {},
   "outputs": [],
   "source": [
    "dfBase = pd.read_excel(r'W4 - Wholesale Customer Data.xlsx')\n",
    "dfTax = pd.read_excel(r'W4 - Regional Tax Rates Data.xlsx')"
   ]
  },
  {
   "cell_type": "code",
   "execution_count": 6,
   "metadata": {},
   "outputs": [
    {
     "data": {
      "text/html": [
       "<div>\n",
       "<style scoped>\n",
       "    .dataframe tbody tr th:only-of-type {\n",
       "        vertical-align: middle;\n",
       "    }\n",
       "\n",
       "    .dataframe tbody tr th {\n",
       "        vertical-align: top;\n",
       "    }\n",
       "\n",
       "    .dataframe thead th {\n",
       "        text-align: right;\n",
       "    }\n",
       "</style>\n",
       "<table border=\"1\" class=\"dataframe\">\n",
       "  <thead>\n",
       "    <tr style=\"text-align: right;\">\n",
       "      <th></th>\n",
       "      <th>Channel</th>\n",
       "      <th>Region</th>\n",
       "      <th>Fresh</th>\n",
       "      <th>Dairy</th>\n",
       "      <th>Grocery</th>\n",
       "      <th>Frozen</th>\n",
       "      <th>Cleaning</th>\n",
       "      <th>Deli</th>\n",
       "    </tr>\n",
       "  </thead>\n",
       "  <tbody>\n",
       "    <tr>\n",
       "      <td>0</td>\n",
       "      <td>Restaurant</td>\n",
       "      <td>Other</td>\n",
       "      <td>12669</td>\n",
       "      <td>9656</td>\n",
       "      <td>7561</td>\n",
       "      <td>214</td>\n",
       "      <td>2674</td>\n",
       "      <td>1338</td>\n",
       "    </tr>\n",
       "    <tr>\n",
       "      <td>1</td>\n",
       "      <td>Restaurant</td>\n",
       "      <td>Other</td>\n",
       "      <td>7057</td>\n",
       "      <td>9810</td>\n",
       "      <td>9568</td>\n",
       "      <td>1762</td>\n",
       "      <td>3293</td>\n",
       "      <td>1776</td>\n",
       "    </tr>\n",
       "    <tr>\n",
       "      <td>2</td>\n",
       "      <td>Restaurant</td>\n",
       "      <td>Other</td>\n",
       "      <td>6353</td>\n",
       "      <td>8808</td>\n",
       "      <td>7684</td>\n",
       "      <td>2405</td>\n",
       "      <td>3516</td>\n",
       "      <td>7844</td>\n",
       "    </tr>\n",
       "    <tr>\n",
       "      <td>3</td>\n",
       "      <td>Retail</td>\n",
       "      <td>Other</td>\n",
       "      <td>13265</td>\n",
       "      <td>1196</td>\n",
       "      <td>4221</td>\n",
       "      <td>6404</td>\n",
       "      <td>507</td>\n",
       "      <td>1788</td>\n",
       "    </tr>\n",
       "    <tr>\n",
       "      <td>4</td>\n",
       "      <td>Restaurant</td>\n",
       "      <td>Other</td>\n",
       "      <td>22615</td>\n",
       "      <td>5410</td>\n",
       "      <td>7198</td>\n",
       "      <td>3915</td>\n",
       "      <td>1777</td>\n",
       "      <td>5185</td>\n",
       "    </tr>\n",
       "  </tbody>\n",
       "</table>\n",
       "</div>"
      ],
      "text/plain": [
       "      Channel Region  Fresh  Dairy  Grocery  Frozen  Cleaning  Deli\n",
       "0  Restaurant  Other  12669   9656     7561     214      2674  1338\n",
       "1  Restaurant  Other   7057   9810     9568    1762      3293  1776\n",
       "2  Restaurant  Other   6353   8808     7684    2405      3516  7844\n",
       "3      Retail  Other  13265   1196     4221    6404       507  1788\n",
       "4  Restaurant  Other  22615   5410     7198    3915      1777  5185"
      ]
     },
     "execution_count": 6,
     "metadata": {},
     "output_type": "execute_result"
    }
   ],
   "source": [
    "dfBase.head(5)"
   ]
  },
  {
   "cell_type": "code",
   "execution_count": 7,
   "metadata": {},
   "outputs": [
    {
     "data": {
      "text/html": [
       "<div>\n",
       "<style scoped>\n",
       "    .dataframe tbody tr th:only-of-type {\n",
       "        vertical-align: middle;\n",
       "    }\n",
       "\n",
       "    .dataframe tbody tr th {\n",
       "        vertical-align: top;\n",
       "    }\n",
       "\n",
       "    .dataframe thead th {\n",
       "        text-align: right;\n",
       "    }\n",
       "</style>\n",
       "<table border=\"1\" class=\"dataframe\">\n",
       "  <thead>\n",
       "    <tr style=\"text-align: right;\">\n",
       "      <th></th>\n",
       "      <th>Region</th>\n",
       "      <th>TaxRate</th>\n",
       "    </tr>\n",
       "  </thead>\n",
       "  <tbody>\n",
       "    <tr>\n",
       "      <td>0</td>\n",
       "      <td>Oporto</td>\n",
       "      <td>0.08</td>\n",
       "    </tr>\n",
       "    <tr>\n",
       "      <td>1</td>\n",
       "      <td>Lisbon</td>\n",
       "      <td>0.14</td>\n",
       "    </tr>\n",
       "    <tr>\n",
       "      <td>2</td>\n",
       "      <td>Other</td>\n",
       "      <td>0.06</td>\n",
       "    </tr>\n",
       "  </tbody>\n",
       "</table>\n",
       "</div>"
      ],
      "text/plain": [
       "   Region  TaxRate\n",
       "0  Oporto     0.08\n",
       "1  Lisbon     0.14\n",
       "2   Other     0.06"
      ]
     },
     "execution_count": 7,
     "metadata": {},
     "output_type": "execute_result"
    }
   ],
   "source": [
    "dfTax.head(5)"
   ]
  },
  {
   "cell_type": "markdown",
   "metadata": {},
   "source": [
    "Add a primary key for the main table"
   ]
  },
  {
   "cell_type": "code",
   "execution_count": 8,
   "metadata": {},
   "outputs": [],
   "source": [
    "dfBase['Row'] = dfBase.index + 1"
   ]
  },
  {
   "cell_type": "markdown",
   "metadata": {},
   "source": [
    "Load tables into database"
   ]
  },
  {
   "cell_type": "code",
   "execution_count": 9,
   "metadata": {},
   "outputs": [],
   "source": [
    "dfBase.to_sql('WholesaleData', connection, if_exists='replace', index=False)\n",
    "dfTax.to_sql('TaxRates', connection, if_exists='replace', index=False)"
   ]
  },
  {
   "cell_type": "markdown",
   "metadata": {},
   "source": [
    "### Questions\n",
    "1. In which regions are total expenditures by restaurants on frozen items greater than those for deli items?\n",
    "2. Provide a rank-ordered list of the top 20 Retail customers based on total sales.\n",
    "3. Create a query that shows total sales to each customer both before and after tax.\n",
    "\n",
    "For each of these questions I'll provide an answer using SQL and with Python data manipulation using Pandas dataframes."
   ]
  },
  {
   "cell_type": "markdown",
   "metadata": {},
   "source": [
    "#### Q1: SQL\n",
    "In which regions are total expenditures by restaurants on frozen items greater than those for deli items?"
   ]
  },
  {
   "cell_type": "code",
   "execution_count": 10,
   "metadata": {},
   "outputs": [
    {
     "name": "stdout",
     "output_type": "stream",
     "text": [
      "   Region  SumFrozen  SumDeli\n",
      "0  Lisbon      46514    33695\n",
      "1  Oporto      29271    23541\n"
     ]
    }
   ],
   "source": [
    "# Question 1: SQL\n",
    "query = \"\"\"\n",
    "SELECT Region, SumFrozen, SumDeli\n",
    "FROM\n",
    " (SELECT Region, sum(Frozen) as SumFrozen, sum(Deli) as SumDeli\n",
    "  from WholesaleData\n",
    "  where Channel = 'Restaurant'\n",
    "  GROUP BY Region)\n",
    "WHERE SumFrozen > SumDeli;\n",
    "\"\"\"\n",
    "result_q1_sql = pd.read_sql_query(query, connection)\n",
    "print(result_q1_sql)"
   ]
  },
  {
   "cell_type": "markdown",
   "metadata": {},
   "source": [
    "#### Q1: Python\n",
    "In which regions are total expenditures by restaurants on frozen items greater than those for deli items?\n",
    "\n",
    "I break this down into a few steps to make the execution easier to understand:\n",
    "1. Filter on channel = Restaurant\n",
    "2. Aggregate by Region\n",
    "3. Filter on results where Frozen > Deli"
   ]
  },
  {
   "cell_type": "code",
   "execution_count": 11,
   "metadata": {},
   "outputs": [
    {
     "name": "stdout",
     "output_type": "stream",
     "text": [
      "Intermediate table:\n",
      "        Frozen    Deli\n",
      "Region                \n",
      "Lisbon   46514   33695\n",
      "Oporto   29271   23541\n",
      "Other   158886  191752\n",
      "\n",
      "Final Table:\n",
      "        Frozen   Deli\n",
      "Region               \n",
      "Lisbon   46514  33695\n",
      "Oporto   29271  23541\n"
     ]
    }
   ],
   "source": [
    "# Question 1: Python\n",
    "print(\"Intermediate table:\")\n",
    "filter = dfBase['Channel'] == 'Restaurant'\n",
    "group_df = dfBase[filter].groupby(['Region']).sum()\n",
    "print(group_df[['Frozen','Deli']])\n",
    "\n",
    "print(\"\\nFinal Table:\")\n",
    "filter = group_df['Frozen'] > group_df['Deli']\n",
    "result_q1_py = group_df[filter]\n",
    "print(result_q1_py[['Frozen','Deli']])"
   ]
  },
  {
   "cell_type": "markdown",
   "metadata": {},
   "source": [
    "#### Q2: SQL\n",
    "Provide a rank-ordered list of the top 20 Retail customers based on total sales.\n"
   ]
  },
  {
   "cell_type": "code",
   "execution_count": 12,
   "metadata": {},
   "outputs": [
    {
     "name": "stdout",
     "output_type": "stream",
     "text": [
      "   Channel  TotalSales\n",
      "0   Retail      190169\n",
      "1   Retail      185683\n",
      "2   Retail      130877\n",
      "3   Retail      105046\n",
      "4   Retail       97820\n",
      "5   Retail       90498\n",
      "6   Retail       78649\n",
      "7   Retail       73302\n",
      "8   Retail       73243\n",
      "9   Retail       70746\n",
      "10  Retail       70297\n",
      "11  Retail       69812\n",
      "12  Retail       68264\n",
      "13  Retail       65695\n",
      "14  Retail       65080\n",
      "15  Retail       64617\n",
      "16  Retail       62163\n",
      "17  Retail       58383\n",
      "18  Retail       57756\n",
      "19  Retail       57502\n"
     ]
    }
   ],
   "source": [
    "# Q2: SQL\n",
    "query = \"\"\"\n",
    "SELECT Channel, (Fresh + Dairy + Grocery + Frozen + Cleaning + Deli) as TotalSales \n",
    "FROM WholesaleData\n",
    "WHERE Channel = 'Retail'\n",
    "ORDER BY TotalSales Desc\n",
    "LIMIT 20;\n",
    "\"\"\"\n",
    "result_q2_sql = pd.read_sql_query(query, connection)\n",
    "print(result_q2_sql)"
   ]
  },
  {
   "cell_type": "markdown",
   "metadata": {},
   "source": [
    "#### Q2: Python\n",
    "Provide a rank-ordered list of the top 20 Retail customers based on total sales.\n",
    "\n",
    "Steps:\n",
    "1. Create the calculated column for Total Sales\n",
    "2. Filter on \"Retail\"\n",
    "3. Sort by Total Sales, descending\n",
    "4. Select first (top) 20 records\n"
   ]
  },
  {
   "cell_type": "code",
   "execution_count": 13,
   "metadata": {},
   "outputs": [
    {
     "name": "stdout",
     "output_type": "stream",
     "text": [
      "    Channel  Region  Total Sales  Row\n",
      "181  Retail   Other       190169  182\n",
      "183  Retail   Other       185683  184\n",
      "325  Retail  Oporto       130877  326\n",
      "125  Retail   Other       105046  126\n",
      "284  Retail   Other        97820  285\n",
      "103  Retail   Other        90498  104\n",
      "87   Retail   Other        78649   88\n",
      "435  Retail   Other        73302  436\n",
      "258  Retail  Lisbon        73243  259\n",
      "39   Retail   Other        70746   40\n",
      "259  Retail  Lisbon        70297  260\n",
      "427  Retail   Other        69812  428\n",
      "176  Retail   Other        68264  177\n",
      "282  Retail   Other        65695  283\n",
      "196  Retail  Lisbon        65080  197\n",
      "71   Retail   Other        64617   72\n",
      "239  Retail  Lisbon        62163  240\n",
      "202  Retail  Lisbon        58383  203\n",
      "265  Retail  Lisbon        57756  266\n",
      "382  Retail   Other        57502  383\n"
     ]
    }
   ],
   "source": [
    "dfBase['Total Sales'] = dfBase['Fresh'] + dfBase['Dairy'] + dfBase['Grocery'] + dfBase['Frozen'] + \\\n",
    "                        dfBase['Cleaning'] + dfBase['Deli'] \n",
    "\n",
    "filter = dfBase['Channel'] == 'Retail'\n",
    "result_q2_py = dfBase[filter].sort_values(by=['Total Sales'], ascending=False)\n",
    "\n",
    "print(result_q2_py[['Channel','Region','Total Sales','Row']].head(20))"
   ]
  },
  {
   "cell_type": "markdown",
   "metadata": {},
   "source": [
    "#### Q3: SQL\n",
    "Create a query that shows total sales to each customer both before and after tax."
   ]
  },
  {
   "cell_type": "code",
   "execution_count": 14,
   "metadata": {},
   "outputs": [
    {
     "name": "stdout",
     "output_type": "stream",
     "text": [
      "    Region     Channel  TotalPreTaxSales  TotalPostTaxSales  TaxRate\n",
      "0    Other  Restaurant            199891          187897.54     0.06\n",
      "1    Other  Restaurant            192714          181151.16     0.06\n",
      "2    Other      Retail            190169          178758.86     0.06\n",
      "3    Other      Retail            185683          174542.02     0.06\n",
      "4    Other  Restaurant            165881          155928.14     0.06\n",
      "..     ...         ...               ...                ...      ...\n",
      "435  Other      Retail              3730            3506.20     0.06\n",
      "436  Other      Retail              3485            3275.90     0.06\n",
      "437  Other      Retail              2476            2327.44     0.06\n",
      "438  Other      Retail              2158            2028.52     0.06\n",
      "439  Other      Retail               904             849.76     0.06\n",
      "\n",
      "[440 rows x 5 columns]\n"
     ]
    }
   ],
   "source": [
    "query = \"\"\"\n",
    "SELECT A.Channel, A.Region, \n",
    "      (A.Fresh + A.Dairy + A.Grocery + A.Frozen + A.Cleaning + A.Deli) as TotalPreTaxSales, \n",
    "      B.TaxRate,\n",
    "      ((A.Fresh + A.Dairy + A.Grocery + A.Frozen + A.Cleaning + A.Deli) * (1 - B.TaxRate)) as TotalPostTaxSales\n",
    "FROM WholesaleData as A, TaxRates as B\n",
    "WHERE A.Region = B.Region\n",
    "ORDER BY TotalPostTaxSales DESC;\n",
    "\"\"\"\n",
    "result_q3_sql = pd.read_sql_query(query, connection)\n",
    "print(result_q3_sql[['Region','Channel','TotalPreTaxSales','TotalPostTaxSales','TaxRate']])"
   ]
  },
  {
   "cell_type": "markdown",
   "metadata": {},
   "source": [
    "#### Q3: Python\n",
    "Create a query that shows total sales to each customer both before and after tax.\n",
    "\n",
    "Steps:\n",
    "1. First merge the tax data into the base dataframe\n",
    "2. Create the calculated column for after tax sales\n",
    "3. Order by Total After Tax Sales"
   ]
  },
  {
   "cell_type": "code",
   "execution_count": 15,
   "metadata": {},
   "outputs": [
    {
     "name": "stdout",
     "output_type": "stream",
     "text": [
      "    Region     Channel  Total Sales  Total After Tax Sales  TaxRate\n",
      "85   Other  Restaurant       199891              187897.54     0.06\n",
      "47   Other  Restaurant       192714              181151.16     0.06\n",
      "181  Other      Retail       190169              178758.86     0.06\n",
      "183  Other      Retail       185683              174542.02     0.06\n",
      "61   Other  Restaurant       165881              155928.14     0.06\n",
      "..     ...         ...          ...                    ...      ...\n",
      "131  Other      Retail         3730                3506.20     0.06\n",
      "231  Other      Retail         3485                3275.90     0.06\n",
      "98   Other      Retail         2476                2327.44     0.06\n",
      "97   Other      Retail         2158                2028.52     0.06\n",
      "154  Other      Retail          904                 849.76     0.06\n",
      "\n",
      "[440 rows x 5 columns]\n"
     ]
    }
   ],
   "source": [
    "dfFull = dfBase.merge(dfTax, on='Region')\n",
    "dfFull['Total After Tax Sales'] = dfFull['Total Sales'] * (1 - dfFull['TaxRate'])\n",
    "result_q3_py = dfFull.sort_values(by=['Total After Tax Sales'], ascending=False)\n",
    "print(result_q3_py[['Region','Channel','Total Sales','Total After Tax Sales','TaxRate']])"
   ]
  },
  {
   "cell_type": "markdown",
   "metadata": {},
   "source": [
    "### End of Notebook!"
   ]
  }
 ],
 "metadata": {
  "kernelspec": {
   "display_name": "Python 3",
   "language": "python",
   "name": "python3"
  },
  "language_info": {
   "codemirror_mode": {
    "name": "ipython",
    "version": 3
   },
   "file_extension": ".py",
   "mimetype": "text/x-python",
   "name": "python",
   "nbconvert_exporter": "python",
   "pygments_lexer": "ipython3",
   "version": "3.7.4"
  }
 },
 "nbformat": 4,
 "nbformat_minor": 2
}
