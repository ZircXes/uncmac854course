{
 "cells": [
  {
   "cell_type": "markdown",
   "metadata": {},
   "source": [
    "## Week 02 - Duke Tickets Example\n",
    "\n",
    "This example loads the Duke Tickets A data example and performs regression in Python. \n",
    "\n",
    "Author: Chris Kennedy\n"
   ]
  },
  {
   "cell_type": "markdown",
   "metadata": {},
   "source": [
    "#### To Do (Future Versions):\n",
    "Use machine-learning pipeline functionality for training to illustrate a production process"
   ]
  },
  {
   "cell_type": "code",
   "execution_count": 1,
   "metadata": {},
   "outputs": [],
   "source": [
    "import pandas as pd\n",
    "from sklearn.linear_model import LinearRegression, Ridge\n",
    "from sklearn import metrics\n",
    "import datetime"
   ]
  },
  {
   "cell_type": "markdown",
   "metadata": {},
   "source": [
    "### Prepare the Data"
   ]
  },
  {
   "cell_type": "code",
   "execution_count": 2,
   "metadata": {},
   "outputs": [],
   "source": [
    "dfDuke = pd.read_excel(r'W2 - DukeTixA.xlsx')"
   ]
  },
  {
   "cell_type": "code",
   "execution_count": 3,
   "metadata": {},
   "outputs": [
    {
     "data": {
      "text/html": [
       "<div>\n",
       "<style scoped>\n",
       "    .dataframe tbody tr th:only-of-type {\n",
       "        vertical-align: middle;\n",
       "    }\n",
       "\n",
       "    .dataframe tbody tr th {\n",
       "        vertical-align: top;\n",
       "    }\n",
       "\n",
       "    .dataframe thead th {\n",
       "        text-align: right;\n",
       "    }\n",
       "</style>\n",
       "<table border=\"1\" class=\"dataframe\">\n",
       "  <thead>\n",
       "    <tr style=\"text-align: right;\">\n",
       "      <th></th>\n",
       "      <th>Observation</th>\n",
       "      <th>Price</th>\n",
       "      <th>Date</th>\n",
       "      <th>Quantity</th>\n",
       "      <th>Row</th>\n",
       "      <th>Deck</th>\n",
       "      <th>UNC rank</th>\n",
       "      <th>Duke rank</th>\n",
       "    </tr>\n",
       "  </thead>\n",
       "  <tbody>\n",
       "    <tr>\n",
       "      <td>0</td>\n",
       "      <td>1</td>\n",
       "      <td>1400</td>\n",
       "      <td>2011-11-01</td>\n",
       "      <td>2</td>\n",
       "      <td>t</td>\n",
       "      <td>L</td>\n",
       "      <td>1</td>\n",
       "      <td>6</td>\n",
       "    </tr>\n",
       "    <tr>\n",
       "      <td>1</td>\n",
       "      <td>2</td>\n",
       "      <td>665</td>\n",
       "      <td>2011-11-01</td>\n",
       "      <td>4</td>\n",
       "      <td>g</td>\n",
       "      <td>U</td>\n",
       "      <td>1</td>\n",
       "      <td>6</td>\n",
       "    </tr>\n",
       "    <tr>\n",
       "      <td>2</td>\n",
       "      <td>3</td>\n",
       "      <td>565</td>\n",
       "      <td>2011-11-03</td>\n",
       "      <td>2</td>\n",
       "      <td>w</td>\n",
       "      <td>U</td>\n",
       "      <td>1</td>\n",
       "      <td>6</td>\n",
       "    </tr>\n",
       "    <tr>\n",
       "      <td>3</td>\n",
       "      <td>4</td>\n",
       "      <td>590</td>\n",
       "      <td>2011-11-03</td>\n",
       "      <td>2</td>\n",
       "      <td>q</td>\n",
       "      <td>U</td>\n",
       "      <td>1</td>\n",
       "      <td>6</td>\n",
       "    </tr>\n",
       "    <tr>\n",
       "      <td>4</td>\n",
       "      <td>5</td>\n",
       "      <td>750</td>\n",
       "      <td>2011-11-06</td>\n",
       "      <td>2</td>\n",
       "      <td>o</td>\n",
       "      <td>U</td>\n",
       "      <td>1</td>\n",
       "      <td>6</td>\n",
       "    </tr>\n",
       "  </tbody>\n",
       "</table>\n",
       "</div>"
      ],
      "text/plain": [
       "   Observation  Price       Date  Quantity Row Deck  UNC rank  Duke rank\n",
       "0            1   1400 2011-11-01         2   t    L         1          6\n",
       "1            2    665 2011-11-01         4   g    U         1          6\n",
       "2            3    565 2011-11-03         2   w    U         1          6\n",
       "3            4    590 2011-11-03         2   q    U         1          6\n",
       "4            5    750 2011-11-06         2   o    U         1          6"
      ]
     },
     "execution_count": 3,
     "metadata": {},
     "output_type": "execute_result"
    }
   ],
   "source": [
    "dfDuke.head(5)"
   ]
  },
  {
   "cell_type": "code",
   "execution_count": 4,
   "metadata": {},
   "outputs": [
    {
     "data": {
      "text/html": [
       "<div>\n",
       "<style scoped>\n",
       "    .dataframe tbody tr th:only-of-type {\n",
       "        vertical-align: middle;\n",
       "    }\n",
       "\n",
       "    .dataframe tbody tr th {\n",
       "        vertical-align: top;\n",
       "    }\n",
       "\n",
       "    .dataframe thead th {\n",
       "        text-align: right;\n",
       "    }\n",
       "</style>\n",
       "<table border=\"1\" class=\"dataframe\">\n",
       "  <thead>\n",
       "    <tr style=\"text-align: right;\">\n",
       "      <th></th>\n",
       "      <th>Observation</th>\n",
       "      <th>Price</th>\n",
       "      <th>Quantity</th>\n",
       "      <th>UNC rank</th>\n",
       "      <th>Duke rank</th>\n",
       "    </tr>\n",
       "  </thead>\n",
       "  <tbody>\n",
       "    <tr>\n",
       "      <td>count</td>\n",
       "      <td>203.000000</td>\n",
       "      <td>203.000000</td>\n",
       "      <td>203.000000</td>\n",
       "      <td>203.000000</td>\n",
       "      <td>203.000000</td>\n",
       "    </tr>\n",
       "    <tr>\n",
       "      <td>mean</td>\n",
       "      <td>102.000000</td>\n",
       "      <td>649.492611</td>\n",
       "      <td>2.275862</td>\n",
       "      <td>4.753695</td>\n",
       "      <td>7.546798</td>\n",
       "    </tr>\n",
       "    <tr>\n",
       "      <td>std</td>\n",
       "      <td>58.745213</td>\n",
       "      <td>557.724509</td>\n",
       "      <td>0.753052</td>\n",
       "      <td>1.658588</td>\n",
       "      <td>1.760830</td>\n",
       "    </tr>\n",
       "    <tr>\n",
       "      <td>min</td>\n",
       "      <td>1.000000</td>\n",
       "      <td>55.000000</td>\n",
       "      <td>1.000000</td>\n",
       "      <td>1.000000</td>\n",
       "      <td>3.000000</td>\n",
       "    </tr>\n",
       "    <tr>\n",
       "      <td>25%</td>\n",
       "      <td>51.500000</td>\n",
       "      <td>300.000000</td>\n",
       "      <td>2.000000</td>\n",
       "      <td>5.000000</td>\n",
       "      <td>7.000000</td>\n",
       "    </tr>\n",
       "    <tr>\n",
       "      <td>50%</td>\n",
       "      <td>102.000000</td>\n",
       "      <td>495.000000</td>\n",
       "      <td>2.000000</td>\n",
       "      <td>5.000000</td>\n",
       "      <td>7.000000</td>\n",
       "    </tr>\n",
       "    <tr>\n",
       "      <td>75%</td>\n",
       "      <td>152.500000</td>\n",
       "      <td>750.000000</td>\n",
       "      <td>2.000000</td>\n",
       "      <td>5.000000</td>\n",
       "      <td>9.000000</td>\n",
       "    </tr>\n",
       "    <tr>\n",
       "      <td>max</td>\n",
       "      <td>203.000000</td>\n",
       "      <td>4785.000000</td>\n",
       "      <td>4.000000</td>\n",
       "      <td>8.000000</td>\n",
       "      <td>10.000000</td>\n",
       "    </tr>\n",
       "  </tbody>\n",
       "</table>\n",
       "</div>"
      ],
      "text/plain": [
       "       Observation        Price    Quantity    UNC rank   Duke rank\n",
       "count   203.000000   203.000000  203.000000  203.000000  203.000000\n",
       "mean    102.000000   649.492611    2.275862    4.753695    7.546798\n",
       "std      58.745213   557.724509    0.753052    1.658588    1.760830\n",
       "min       1.000000    55.000000    1.000000    1.000000    3.000000\n",
       "25%      51.500000   300.000000    2.000000    5.000000    7.000000\n",
       "50%     102.000000   495.000000    2.000000    5.000000    7.000000\n",
       "75%     152.500000   750.000000    2.000000    5.000000    9.000000\n",
       "max     203.000000  4785.000000    4.000000    8.000000   10.000000"
      ]
     },
     "execution_count": 4,
     "metadata": {},
     "output_type": "execute_result"
    }
   ],
   "source": [
    "dfDuke.describe()"
   ]
  },
  {
   "cell_type": "markdown",
   "metadata": {},
   "source": [
    "Check for missing/null values"
   ]
  },
  {
   "cell_type": "code",
   "execution_count": 5,
   "metadata": {},
   "outputs": [
    {
     "data": {
      "text/plain": [
       "Observation    0\n",
       "Price          0\n",
       "Date           0\n",
       "Quantity       0\n",
       "Row            0\n",
       "Deck           0\n",
       "UNC rank       0\n",
       "Duke rank      0\n",
       "dtype: int64"
      ]
     },
     "execution_count": 5,
     "metadata": {},
     "output_type": "execute_result"
    }
   ],
   "source": [
    "dfDuke.isnull().sum()"
   ]
  },
  {
   "cell_type": "markdown",
   "metadata": {},
   "source": [
    "Check datatypes for regression"
   ]
  },
  {
   "cell_type": "code",
   "execution_count": 6,
   "metadata": {},
   "outputs": [
    {
     "data": {
      "text/plain": [
       "Observation             int64\n",
       "Price                   int64\n",
       "Date           datetime64[ns]\n",
       "Quantity                int64\n",
       "Row                    object\n",
       "Deck                   object\n",
       "UNC rank                int64\n",
       "Duke rank               int64\n",
       "dtype: object"
      ]
     },
     "execution_count": 6,
     "metadata": {},
     "output_type": "execute_result"
    }
   ],
   "source": [
    "dfDuke.dtypes"
   ]
  },
  {
   "cell_type": "markdown",
   "metadata": {},
   "source": [
    "#### Clean Data\n",
    "1. Fix Dates\n",
    "2. One-Hot-Encode the Quantity\n",
    "3. Apply lambda to \"Row\"\n",
    "4. One-Hot-Encode \"Deck\"\n",
    "5. Prepare Calculated Fields from UNC and Duke Rank"
   ]
  },
  {
   "cell_type": "code",
   "execution_count": 7,
   "metadata": {},
   "outputs": [],
   "source": [
    "# 1. Fix Dates\n",
    "game_day = dfDuke['Date'].max()\n",
    "dfDuke['Days to Game'] = (game_day - dfDuke['Date']) / datetime.timedelta(days=1)\n"
   ]
  },
  {
   "cell_type": "code",
   "execution_count": 8,
   "metadata": {},
   "outputs": [],
   "source": [
    "# 2. One-Hot Encode the Quantity\n",
    "dfQ = pd.get_dummies(dfDuke['Quantity'], drop_first=True, prefix='Quantity')\n",
    "dfDuke = dfDuke.join(dfQ)"
   ]
  },
  {
   "cell_type": "code",
   "execution_count": 9,
   "metadata": {},
   "outputs": [],
   "source": [
    "# 3. Apply Lambda to \"Row\"\n",
    "dfDuke['Row (Clean)'] = dfDuke['Row'].str.strip()\n",
    "dfDuke['Row Number'] = dfDuke['Row (Clean)'].apply ( \\\n",
    "        lambda x: ord(x) - 96 if len(x) == 1 else ord(x[0]) - 96)"
   ]
  },
  {
   "cell_type": "code",
   "execution_count": 10,
   "metadata": {},
   "outputs": [],
   "source": [
    "# 4. One-Hot Encode Deck\n",
    "dfDuke['Upper Deck'] = pd.get_dummies(dfDuke['Deck'], drop_first=True)"
   ]
  },
  {
   "cell_type": "code",
   "execution_count": 11,
   "metadata": {},
   "outputs": [],
   "source": [
    "#5. Prepare calculated fields from UNC and Duke Rank\n",
    "dfDuke['RankSum'] = dfDuke['UNC rank'] + dfDuke['Duke rank']\n",
    "dfDuke['RankDif'] = abs(dfDuke['UNC rank'] - dfDuke['Duke rank'])"
   ]
  },
  {
   "cell_type": "markdown",
   "metadata": {},
   "source": [
    "Drop extra columns and split the data into X and y:"
   ]
  },
  {
   "cell_type": "code",
   "execution_count": 12,
   "metadata": {},
   "outputs": [],
   "source": [
    "y = dfDuke['Price']\n",
    "X = dfDuke.drop(columns=['Price','Observation','Row','Row (Clean)', 'Date', 'Deck', 'UNC rank', 'Duke rank', 'Quantity'])"
   ]
  },
  {
   "cell_type": "code",
   "execution_count": 13,
   "metadata": {},
   "outputs": [
    {
     "data": {
      "text/html": [
       "<div>\n",
       "<style scoped>\n",
       "    .dataframe tbody tr th:only-of-type {\n",
       "        vertical-align: middle;\n",
       "    }\n",
       "\n",
       "    .dataframe tbody tr th {\n",
       "        vertical-align: top;\n",
       "    }\n",
       "\n",
       "    .dataframe thead th {\n",
       "        text-align: right;\n",
       "    }\n",
       "</style>\n",
       "<table border=\"1\" class=\"dataframe\">\n",
       "  <thead>\n",
       "    <tr style=\"text-align: right;\">\n",
       "      <th></th>\n",
       "      <th>Days to Game</th>\n",
       "      <th>Quantity_2</th>\n",
       "      <th>Quantity_3</th>\n",
       "      <th>Quantity_4</th>\n",
       "      <th>Row Number</th>\n",
       "      <th>Upper Deck</th>\n",
       "      <th>RankSum</th>\n",
       "      <th>RankDif</th>\n",
       "    </tr>\n",
       "  </thead>\n",
       "  <tbody>\n",
       "    <tr>\n",
       "      <td>0</td>\n",
       "      <td>99.0</td>\n",
       "      <td>1</td>\n",
       "      <td>0</td>\n",
       "      <td>0</td>\n",
       "      <td>20</td>\n",
       "      <td>0</td>\n",
       "      <td>7</td>\n",
       "      <td>5</td>\n",
       "    </tr>\n",
       "    <tr>\n",
       "      <td>1</td>\n",
       "      <td>99.0</td>\n",
       "      <td>0</td>\n",
       "      <td>0</td>\n",
       "      <td>1</td>\n",
       "      <td>7</td>\n",
       "      <td>1</td>\n",
       "      <td>7</td>\n",
       "      <td>5</td>\n",
       "    </tr>\n",
       "    <tr>\n",
       "      <td>2</td>\n",
       "      <td>97.0</td>\n",
       "      <td>1</td>\n",
       "      <td>0</td>\n",
       "      <td>0</td>\n",
       "      <td>23</td>\n",
       "      <td>1</td>\n",
       "      <td>7</td>\n",
       "      <td>5</td>\n",
       "    </tr>\n",
       "    <tr>\n",
       "      <td>3</td>\n",
       "      <td>97.0</td>\n",
       "      <td>1</td>\n",
       "      <td>0</td>\n",
       "      <td>0</td>\n",
       "      <td>17</td>\n",
       "      <td>1</td>\n",
       "      <td>7</td>\n",
       "      <td>5</td>\n",
       "    </tr>\n",
       "    <tr>\n",
       "      <td>4</td>\n",
       "      <td>94.0</td>\n",
       "      <td>1</td>\n",
       "      <td>0</td>\n",
       "      <td>0</td>\n",
       "      <td>15</td>\n",
       "      <td>1</td>\n",
       "      <td>7</td>\n",
       "      <td>5</td>\n",
       "    </tr>\n",
       "  </tbody>\n",
       "</table>\n",
       "</div>"
      ],
      "text/plain": [
       "   Days to Game  Quantity_2  Quantity_3  Quantity_4  Row Number  Upper Deck  \\\n",
       "0          99.0           1           0           0          20           0   \n",
       "1          99.0           0           0           1           7           1   \n",
       "2          97.0           1           0           0          23           1   \n",
       "3          97.0           1           0           0          17           1   \n",
       "4          94.0           1           0           0          15           1   \n",
       "\n",
       "   RankSum  RankDif  \n",
       "0        7        5  \n",
       "1        7        5  \n",
       "2        7        5  \n",
       "3        7        5  \n",
       "4        7        5  "
      ]
     },
     "execution_count": 13,
     "metadata": {},
     "output_type": "execute_result"
    }
   ],
   "source": [
    "# Check our X data frame\n",
    "X.head()"
   ]
  },
  {
   "cell_type": "markdown",
   "metadata": {},
   "source": [
    "### Prepare the Regressions"
   ]
  },
  {
   "cell_type": "markdown",
   "metadata": {},
   "source": [
    "#### Specify Hyperparameters \n",
    "Normally we would calibrate the regularization parameter using a grid-search or cross-validation; however, for simplicity we are just using $\\lambda$ = 10.0.\n"
   ]
  },
  {
   "cell_type": "code",
   "execution_count": 14,
   "metadata": {},
   "outputs": [],
   "source": [
    "regLambda = 10.0 # Note that lambda is a protected word in python"
   ]
  },
  {
   "cell_type": "markdown",
   "metadata": {},
   "source": [
    "Given hyperparameters, initialize the models - no hyperparameters for classical linear regression."
   ]
  },
  {
   "cell_type": "code",
   "execution_count": 15,
   "metadata": {},
   "outputs": [],
   "source": [
    "classicLR = LinearRegression()\n",
    "ridgeLR = Ridge(alpha = regLambda)"
   ]
  },
  {
   "cell_type": "markdown",
   "metadata": {},
   "source": [
    "#### Fit the models"
   ]
  },
  {
   "cell_type": "code",
   "execution_count": 16,
   "metadata": {},
   "outputs": [],
   "source": [
    "model_CLR = classicLR.fit(X, y)"
   ]
  },
  {
   "cell_type": "code",
   "execution_count": 17,
   "metadata": {},
   "outputs": [],
   "source": [
    "model_RLR = ridgeLR.fit(X, y)"
   ]
  },
  {
   "cell_type": "markdown",
   "metadata": {},
   "source": [
    "#### Build predictions (in-sample)"
   ]
  },
  {
   "cell_type": "code",
   "execution_count": 18,
   "metadata": {},
   "outputs": [],
   "source": [
    "yp = model_CLR.predict(X)\n",
    "ypr = model_RLR.predict(X)"
   ]
  },
  {
   "cell_type": "markdown",
   "metadata": {},
   "source": [
    "#### Simple performance metrics\n",
    "We are not using a validation/holdout set this week. Typically cross-validation or train/validate/test splits would apply when evaluating machine learning models."
   ]
  },
  {
   "cell_type": "code",
   "execution_count": 19,
   "metadata": {},
   "outputs": [
    {
     "name": "stdout",
     "output_type": "stream",
     "text": [
      "Classical: \n",
      "R2:        0.429\n",
      "RMSE:   420.2544\n",
      "\n",
      "Ridge:\n",
      "R2:        0.418\n",
      "RMSE:   424.4176\n"
     ]
    }
   ],
   "source": [
    "print(\"Classical: \")\n",
    "print(\"R2:   %10.3f\" % metrics.r2_score(y, yp))\n",
    "print(\"RMSE: %10.4f\" % metrics.mean_squared_error(y, yp) ** 0.5)\n",
    "print(\"\")\n",
    "print(\"Ridge:\")\n",
    "print(\"R2:   %10.3f\" % metrics.r2_score(y, ypr))\n",
    "print(\"RMSE: %10.4f\" % metrics.mean_squared_error(y, ypr) ** 0.5)"
   ]
  },
  {
   "cell_type": "markdown",
   "metadata": {},
   "source": [
    "#### Output intercepts and coefficients for comparison"
   ]
  },
  {
   "cell_type": "code",
   "execution_count": 20,
   "metadata": {},
   "outputs": [
    {
     "name": "stdout",
     "output_type": "stream",
     "text": [
      "           VAR      SIMPLE       RIDGE       Delta\n",
      "      Intecept   1250.7322   1268.4101    -17.6779\n",
      "  Days to Game      5.9223      5.6874      0.2350\n",
      "    Quantity_2    109.4939     58.3309     51.1630\n",
      "    Quantity_3   -165.9811    -56.6931   -109.2879\n",
      "    Quantity_4     40.9764     -2.2518     43.2282\n",
      "    Row Number    -15.8415    -15.9277      0.0862\n",
      "    Upper Deck   -641.0195   -521.1882   -119.8313\n",
      "       RankSum     -1.2886     -3.9505      2.6619\n",
      "       RankDif    -62.5887    -64.7643      2.1756\n"
     ]
    }
   ],
   "source": [
    "#  Simple vs. Regularized (Ridge)\n",
    "cols= len(X.columns)\n",
    "coeffs = [model_CLR.coef_, model_RLR.coef_]\n",
    "\n",
    "print (\"%14s\" % \"VAR\", \"%11s\" % \"SIMPLE\", \"%11s\" % \"RIDGE\", \"%11s\" % \"Delta\")\n",
    "print (\"%14s\" % \"Intecept\", \"%11.4f\" % model_CLR.intercept_, \"%11.4f\" % model_RLR.intercept_, \"%11.4f\" % (model_CLR.intercept_ - model_RLR.intercept_))    \n",
    "for i in range(0,cols):\n",
    "    print(\"%14s\" % X.columns[i], \"%11.4f\" % coeffs[0][i], \"%11.4f\" % coeffs[1][i], \"%11.4f\" % (coeffs[0][i] - coeffs[1][i]))\n"
   ]
  },
  {
   "cell_type": "markdown",
   "metadata": {},
   "source": [
    "### Plots and visualizations"
   ]
  },
  {
   "cell_type": "code",
   "execution_count": 21,
   "metadata": {},
   "outputs": [],
   "source": [
    "%matplotlib inline\n",
    "import matplotlib as mpl\n",
    "import matplotlib.pyplot as plt\n",
    "mpl.rc('axes', labelsize=14)\n",
    "mpl.rc('xtick', labelsize=12)\n",
    "mpl.rc('ytick', labelsize=12)"
   ]
  },
  {
   "cell_type": "markdown",
   "metadata": {},
   "source": [
    "Plot Y vs. Prediction using Classical and Ridge"
   ]
  },
  {
   "cell_type": "code",
   "execution_count": 22,
   "metadata": {},
   "outputs": [
    {
     "data": {
      "image/png": "[encoded data removed]",
      "text/plain": [
       "<Figure size 432x288 with 1 Axes>"
      ]
     },
     "metadata": {
      "needs_background": "light"
     },
     "output_type": "display_data"
    }
   ],
   "source": [
    "plt.plot(yp, y, \"b.\", label=\"Classical\")\n",
    "plt.scatter(ypr, y, s=80, facecolors='none', edgecolors='r', label=\"Ridge\")\n",
    "plt.xlabel(\"$y_{predicted}$\")\n",
    "plt.ylabel(\"$y$\")\n",
    "plt.legend(loc=\"upper left\", fontsize=14)\n",
    "plt.show()"
   ]
  },
  {
   "cell_type": "markdown",
   "metadata": {},
   "source": [
    "Plot residuals for classical and ridge"
   ]
  },
  {
   "cell_type": "code",
   "execution_count": 23,
   "metadata": {},
   "outputs": [
    {
     "data": {
      "image/png": "[encoded data removed]",
      "text/plain": [
       "<Figure size 432x288 with 1 Axes>"
      ]
     },
     "metadata": {
      "needs_background": "light"
     },
     "output_type": "display_data"
    }
   ],
   "source": [
    "plt.plot(y, (yp - y), \"b.\")\n",
    "plt.xlabel(\"$y$\")\n",
    "plt.ylabel(\"residuals\")\n",
    "plt.show()"
   ]
  },
  {
   "cell_type": "code",
   "execution_count": 24,
   "metadata": {},
   "outputs": [
    {
     "data": {
      "image/png": "[encoded data removed]",
      "text/plain": [
       "<Figure size 432x288 with 1 Axes>"
      ]
     },
     "metadata": {
      "needs_background": "light"
     },
     "output_type": "display_data"
    }
   ],
   "source": [
    "plt.plot(y,(ypr-y), \"b.\")\n",
    "plt.show()"
   ]
  },
  {
   "cell_type": "markdown",
   "metadata": {},
   "source": [
    "### End of Notebook!"
   ]
  }
 ],
 "metadata": {
  "kernelspec": {
   "display_name": "Python 3",
   "language": "python",
   "name": "python3"
  },
  "language_info": {
   "codemirror_mode": {
    "name": "ipython",
    "version": 3
   },
   "file_extension": ".py",
   "mimetype": "text/x-python",
   "name": "python",
   "nbconvert_exporter": "python",
   "pygments_lexer": "ipython3",
   "version": "3.7.4"
  }
 },
 "nbformat": 4,
 "nbformat_minor": 2
}
